{
 "cells": [
  {
   "cell_type": "code",
   "execution_count": 1,
   "metadata": {},
   "outputs": [
    {
     "name": "stderr",
     "output_type": "stream",
     "text": [
      "[nltk_data] Downloading package cmudict to /home/likhith/nltk_data...\n",
      "[nltk_data]   Package cmudict is already up-to-date!\n"
     ]
    }
   ],
   "source": [
    "import pandas as pd\n",
    "import nltk\n",
    "from nltk import sent_tokenize, word_tokenize\n",
    "from nltk.corpus import cmudict\n",
    "from collections import Counter\n",
    "import os\n",
    "nltk.download('cmudict')\n",
    "from nltk.corpus import stopwords\n",
    "import string\n",
    "import re"
   ]
  },
  {
   "cell_type": "code",
   "execution_count": 2,
   "metadata": {},
   "outputs": [],
   "source": [
    "# Path to the Excel file\n",
    "excel_file = 'Output Data Structure.xlsx'\n",
    "\n",
    "# Load the Excel file into a DataFrame\n",
    "df = pd.read_excel(excel_file)"
   ]
  },
  {
   "cell_type": "code",
   "execution_count": 3,
   "metadata": {},
   "outputs": [],
   "source": [
    "positive_words_file = '/home/likhith/Text_Analysis/MasterDictionary/positive-words.txt'\n",
    "neg_words_file = '/home/likhith/Text_Analysis/MasterDictionary/negative-words.txt'\n",
    "\n",
    "# Load the positive words from the file\n",
    "with open(positive_words_file, 'r', encoding='utf-8') as file:\n",
    "    positive_words_list = file.read().splitlines()\n",
    "\n",
    "# Load the negative words from the file\n",
    "with open(neg_words_file, 'r', encoding='latin-1') as file:\n",
    "    negative_words_list = file.read().splitlines()\n",
    "\n",
    "positive_words = {word: 1 for word in positive_words_list}\n",
    "negative_words = {word: -1 for word in negative_words_list}"
   ]
  },
  {
   "cell_type": "code",
   "execution_count": 4,
   "metadata": {},
   "outputs": [],
   "source": [
    "text_files_folder = '/home/likhith/Text_Analysis/Data/'"
   ]
  },
  {
   "cell_type": "code",
   "execution_count": 5,
   "metadata": {},
   "outputs": [],
   "source": [
    "# Function to count the number of syllables in a word\n",
    "def count_syllables(word):\n",
    "    phones = cmudict.dict().get(word.lower())\n",
    "    if phones is None:\n",
    "        return 1  # Approximate the number of syllables as 1 for unknown words\n",
    "    else:\n",
    "        return max([len([y for y in x if y[-1].isdigit()]) for x in phones])"
   ]
  },
  {
   "cell_type": "code",
   "execution_count": 6,
   "metadata": {},
   "outputs": [],
   "source": [
    "def remove_punctuation(text):\n",
    "    translator = str.maketrans('', '', string.punctuation)\n",
    "    return text.translate(translator)\n",
    "\n",
    "def get_word_count(text):\n",
    "    # Remove punctuation marks\n",
    "    text_without_punctuation = remove_punctuation(text)\n",
    "\n",
    "    # Tokenize the text into words\n",
    "    words = re.findall(r'\\b\\w+\\b', text_without_punctuation)\n",
    "\n",
    "    # Remove stopwords\n",
    "    stop_words = set(stopwords.words('english'))\n",
    "    filtered_words = [word for word in words if word.lower() not in stop_words]\n",
    "\n",
    "    # Count the number of words\n",
    "    word_count = len(filtered_words)\n",
    "\n",
    "    return word_count"
   ]
  },
  {
   "cell_type": "code",
   "execution_count": null,
   "metadata": {},
   "outputs": [],
   "source": [
    "personal_pronouns = ['I', 'me', 'my', 'mine', 'we', 'us', 'our', 'ours', 'you', 'your', 'yours','he', 'him', 'his', 'she', 'her', 'hers', 'it', 'its', 'they', 'them', 'their', 'theirs']"
   ]
  },
  {
   "cell_type": "code",
   "execution_count": 7,
   "metadata": {},
   "outputs": [],
   "source": [
    "# Function to calculate the Average Number of Words per Sentence, Complex Word Count, Word Count,\n",
    "# Syllables per Word, Personal Pronouns, and Average Word Length\n",
    "def calculate_metrics(text):\n",
    "    sentences = sent_tokenize(text)\n",
    "    words = [word for sentence in sentences for word in word_tokenize(sentence)]\n",
    "    total_words = len(words)\n",
    "    total_sentences = len(sentences)\n",
    "\n",
    "    pos_score = sum(positive_words.get(word, 0) for word in words)\n",
    "    neg_score = sum(negative_words.get(word, 0) for word in words)\n",
    "\n",
    "    polarity_score = (pos_score - abs(neg_score)) / ((pos_score + abs(neg_score)) + 0.000001)\n",
    "    subjectivity_score = (pos_score + abs(neg_score)) / (total_words + 0.000001)\n",
    "\n",
    "    avg_sentence_length = total_words / total_sentences\n",
    "    \n",
    "    complex_words = [word for word in words if count_syllables(word) >= 3]\n",
    "    complex_word_count = len(complex_words)\n",
    "    per_of_complex_words = (complex_word_count/total_words)*100\n",
    "\n",
    "    fog_index = 0.4*(avg_sentence_length + per_of_complex_words)\n",
    "\n",
    "    avg_no_of_words_per_sentence = avg_sentence_length\n",
    "\n",
    "    personal_pronouns = ['I', 'me', 'my', 'mine', 'we', 'us', 'our', 'ours', 'you', 'your', 'yours','he', 'him', 'his', 'she', 'her', 'hers', 'it', 'its', 'they', 'them', 'their', 'theirs']\n",
    "    personal_pronouns_count = sum(Counter(words)[pronoun] for pronoun in personal_pronouns)\n",
    "    word_lengths = [len(word) for word in words]\n",
    "    syllables_per_word = sum(count_syllables(word) for word in words) / total_words\n",
    "    word_count = get_word_count(text)\n",
    "    avg_word_length = sum(word_lengths) / total_words\n",
    "\n",
    "    return pos_score,neg_score,polarity_score,subjectivity_score,avg_sentence_length, fog_index,avg_no_of_words_per_sentence,per_of_complex_words,complex_word_count, word_count, syllables_per_word, personal_pronouns_count, avg_word_length"
   ]
  },
  {
   "cell_type": "code",
   "execution_count": 8,
   "metadata": {},
   "outputs": [
    {
     "name": "stdout",
     "output_type": "stream",
     "text": [
      "Additional scores calculated for 37.txt\n",
      "Additional scores calculated for 38.txt\n",
      "Additional scores calculated for 39.txt\n"
     ]
    },
    {
     "ename": "KeyboardInterrupt",
     "evalue": "",
     "output_type": "error",
     "traceback": [
      "\u001b[0;31m---------------------------------------------------------------------------\u001b[0m",
      "\u001b[0;31mKeyboardInterrupt\u001b[0m                         Traceback (most recent call last)",
      "Cell \u001b[0;32mIn[8], line 13\u001b[0m\n\u001b[1;32m     10\u001b[0m     article_text \u001b[39m=\u001b[39m file\u001b[39m.\u001b[39mread()\n\u001b[1;32m     12\u001b[0m \u001b[39m# Calculate the Average Sentence Length, Percentage of Complex Words, and Fog Index\u001b[39;00m\n\u001b[0;32m---> 13\u001b[0m pos_score,neg_score,polarity_score,subjectivity_score,avg_sentence_length, fog_index,avg_no_of_words_per_sentence,per_of_complex_words,complex_word_count, word_count, syllables_per_word, personal_pronouns_count, avg_word_length \u001b[39m=\u001b[39m calculate_metrics(article_text)\n\u001b[1;32m     15\u001b[0m \u001b[39m# Update the columns in the DataFrame\u001b[39;00m\n\u001b[1;32m     16\u001b[0m df\u001b[39m.\u001b[39mloc[index, \u001b[39m'\u001b[39m\u001b[39mPOSITIVE SCORE\u001b[39m\u001b[39m'\u001b[39m] \u001b[39m=\u001b[39m pos_score\n",
      "Cell \u001b[0;32mIn[7], line 28\u001b[0m, in \u001b[0;36mcalculate_metrics\u001b[0;34m(text)\u001b[0m\n\u001b[1;32m     26\u001b[0m personal_pronouns_count \u001b[39m=\u001b[39m \u001b[39msum\u001b[39m(Counter(words)[pronoun] \u001b[39mfor\u001b[39;00m pronoun \u001b[39min\u001b[39;00m personal_pronouns)\n\u001b[1;32m     27\u001b[0m word_lengths \u001b[39m=\u001b[39m [\u001b[39mlen\u001b[39m(word) \u001b[39mfor\u001b[39;00m word \u001b[39min\u001b[39;00m words]\n\u001b[0;32m---> 28\u001b[0m syllables_per_word \u001b[39m=\u001b[39m \u001b[39msum\u001b[39;49m(count_syllables(word) \u001b[39mfor\u001b[39;49;00m word \u001b[39min\u001b[39;49;00m words) \u001b[39m/\u001b[39m total_words\n\u001b[1;32m     29\u001b[0m word_count \u001b[39m=\u001b[39m get_word_count(text)\n\u001b[1;32m     30\u001b[0m avg_word_length \u001b[39m=\u001b[39m \u001b[39msum\u001b[39m(word_lengths) \u001b[39m/\u001b[39m total_words\n",
      "Cell \u001b[0;32mIn[7], line 28\u001b[0m, in \u001b[0;36m<genexpr>\u001b[0;34m(.0)\u001b[0m\n\u001b[1;32m     26\u001b[0m personal_pronouns_count \u001b[39m=\u001b[39m \u001b[39msum\u001b[39m(Counter(words)[pronoun] \u001b[39mfor\u001b[39;00m pronoun \u001b[39min\u001b[39;00m personal_pronouns)\n\u001b[1;32m     27\u001b[0m word_lengths \u001b[39m=\u001b[39m [\u001b[39mlen\u001b[39m(word) \u001b[39mfor\u001b[39;00m word \u001b[39min\u001b[39;00m words]\n\u001b[0;32m---> 28\u001b[0m syllables_per_word \u001b[39m=\u001b[39m \u001b[39msum\u001b[39m(count_syllables(word) \u001b[39mfor\u001b[39;00m word \u001b[39min\u001b[39;00m words) \u001b[39m/\u001b[39m total_words\n\u001b[1;32m     29\u001b[0m word_count \u001b[39m=\u001b[39m get_word_count(text)\n\u001b[1;32m     30\u001b[0m avg_word_length \u001b[39m=\u001b[39m \u001b[39msum\u001b[39m(word_lengths) \u001b[39m/\u001b[39m total_words\n",
      "Cell \u001b[0;32mIn[5], line 3\u001b[0m, in \u001b[0;36mcount_syllables\u001b[0;34m(word)\u001b[0m\n\u001b[1;32m      2\u001b[0m \u001b[39mdef\u001b[39;00m \u001b[39mcount_syllables\u001b[39m(word):\n\u001b[0;32m----> 3\u001b[0m     phones \u001b[39m=\u001b[39m cmudict\u001b[39m.\u001b[39;49mdict()\u001b[39m.\u001b[39mget(word\u001b[39m.\u001b[39mlower())\n\u001b[1;32m      4\u001b[0m     \u001b[39mif\u001b[39;00m phones \u001b[39mis\u001b[39;00m \u001b[39mNone\u001b[39;00m:\n\u001b[1;32m      5\u001b[0m         \u001b[39mreturn\u001b[39;00m \u001b[39m1\u001b[39m  \u001b[39m# Approximate the number of syllables as 1 for unknown words\u001b[39;00m\n",
      "File \u001b[0;32m~/anaconda3/lib/python3.10/site-packages/nltk/corpus/reader/cmudict.py:77\u001b[0m, in \u001b[0;36mCMUDictCorpusReader.dict\u001b[0;34m(self)\u001b[0m\n\u001b[1;32m     72\u001b[0m \u001b[39mdef\u001b[39;00m \u001b[39mdict\u001b[39m(\u001b[39mself\u001b[39m):\n\u001b[1;32m     73\u001b[0m     \u001b[39m\"\"\"\u001b[39;00m\n\u001b[1;32m     74\u001b[0m \u001b[39m    :return: the cmudict lexicon as a dictionary, whose keys are\u001b[39;00m\n\u001b[1;32m     75\u001b[0m \u001b[39m        lowercase words and whose values are lists of pronunciations.\u001b[39;00m\n\u001b[1;32m     76\u001b[0m \u001b[39m    \"\"\"\u001b[39;00m\n\u001b[0;32m---> 77\u001b[0m     \u001b[39mreturn\u001b[39;00m \u001b[39mdict\u001b[39m(Index(\u001b[39mself\u001b[39;49m\u001b[39m.\u001b[39;49mentries()))\n",
      "File \u001b[0;32m~/anaconda3/lib/python3.10/site-packages/nltk/util.py:150\u001b[0m, in \u001b[0;36mIndex.__init__\u001b[0;34m(self, pairs)\u001b[0m\n\u001b[1;32m    148\u001b[0m \u001b[39mdef\u001b[39;00m \u001b[39m__init__\u001b[39m(\u001b[39mself\u001b[39m, pairs):\n\u001b[1;32m    149\u001b[0m     defaultdict\u001b[39m.\u001b[39m\u001b[39m__init__\u001b[39m(\u001b[39mself\u001b[39m, \u001b[39mlist\u001b[39m)\n\u001b[0;32m--> 150\u001b[0m     \u001b[39mfor\u001b[39;00m key, value \u001b[39min\u001b[39;00m pairs:\n\u001b[1;32m    151\u001b[0m         \u001b[39mself\u001b[39m[key]\u001b[39m.\u001b[39mappend(value)\n",
      "File \u001b[0;32m~/anaconda3/lib/python3.10/site-packages/nltk/corpus/reader/util.py:306\u001b[0m, in \u001b[0;36mStreamBackedCorpusView.iterate_from\u001b[0;34m(self, start_tok)\u001b[0m\n\u001b[1;32m    304\u001b[0m \u001b[39mself\u001b[39m\u001b[39m.\u001b[39m_current_toknum \u001b[39m=\u001b[39m toknum\n\u001b[1;32m    305\u001b[0m \u001b[39mself\u001b[39m\u001b[39m.\u001b[39m_current_blocknum \u001b[39m=\u001b[39m block_index\n\u001b[0;32m--> 306\u001b[0m tokens \u001b[39m=\u001b[39m \u001b[39mself\u001b[39;49m\u001b[39m.\u001b[39;49mread_block(\u001b[39mself\u001b[39;49m\u001b[39m.\u001b[39;49m_stream)\n\u001b[1;32m    307\u001b[0m \u001b[39massert\u001b[39;00m \u001b[39misinstance\u001b[39m(tokens, (\u001b[39mtuple\u001b[39m, \u001b[39mlist\u001b[39m, AbstractLazySequence)), (\n\u001b[1;32m    308\u001b[0m     \u001b[39m\"\u001b[39m\u001b[39mblock reader \u001b[39m\u001b[39m%s\u001b[39;00m\u001b[39m() should return list or tuple.\u001b[39m\u001b[39m\"\u001b[39m\n\u001b[1;32m    309\u001b[0m     \u001b[39m%\u001b[39m \u001b[39mself\u001b[39m\u001b[39m.\u001b[39mread_block\u001b[39m.\u001b[39m\u001b[39m__name__\u001b[39m\n\u001b[1;32m    310\u001b[0m )\n\u001b[1;32m    311\u001b[0m num_toks \u001b[39m=\u001b[39m \u001b[39mlen\u001b[39m(tokens)\n",
      "File \u001b[0;32m~/anaconda3/lib/python3.10/site-packages/nltk/corpus/reader/cmudict.py:83\u001b[0m, in \u001b[0;36mread_cmudict_block\u001b[0;34m(stream)\u001b[0m\n\u001b[1;32m     81\u001b[0m entries \u001b[39m=\u001b[39m []\n\u001b[1;32m     82\u001b[0m \u001b[39mwhile\u001b[39;00m \u001b[39mlen\u001b[39m(entries) \u001b[39m<\u001b[39m \u001b[39m100\u001b[39m:  \u001b[39m# Read 100 at a time.\u001b[39;00m\n\u001b[0;32m---> 83\u001b[0m     line \u001b[39m=\u001b[39m stream\u001b[39m.\u001b[39;49mreadline()\n\u001b[1;32m     84\u001b[0m     \u001b[39mif\u001b[39;00m line \u001b[39m==\u001b[39m \u001b[39m\"\u001b[39m\u001b[39m\"\u001b[39m:\n\u001b[1;32m     85\u001b[0m         \u001b[39mreturn\u001b[39;00m entries  \u001b[39m# end of file.\u001b[39;00m\n",
      "File \u001b[0;32m~/anaconda3/lib/python3.10/site-packages/nltk/data.py:1100\u001b[0m, in \u001b[0;36mSeekableUnicodeStreamReader.readline\u001b[0;34m(self, size)\u001b[0m\n\u001b[1;32m   1098\u001b[0m \u001b[39mwhile\u001b[39;00m \u001b[39mTrue\u001b[39;00m:\n\u001b[1;32m   1099\u001b[0m     startpos \u001b[39m=\u001b[39m \u001b[39mself\u001b[39m\u001b[39m.\u001b[39mstream\u001b[39m.\u001b[39mtell() \u001b[39m-\u001b[39m \u001b[39mlen\u001b[39m(\u001b[39mself\u001b[39m\u001b[39m.\u001b[39mbytebuffer)\n\u001b[0;32m-> 1100\u001b[0m     new_chars \u001b[39m=\u001b[39m \u001b[39mself\u001b[39;49m\u001b[39m.\u001b[39;49m_read(readsize)\n\u001b[1;32m   1102\u001b[0m     \u001b[39m# If we're at a '\\r', then read one extra character, since\u001b[39;00m\n\u001b[1;32m   1103\u001b[0m     \u001b[39m# it might be a '\\n', to get the proper line ending.\u001b[39;00m\n\u001b[1;32m   1104\u001b[0m     \u001b[39mif\u001b[39;00m new_chars \u001b[39mand\u001b[39;00m new_chars\u001b[39m.\u001b[39mendswith(\u001b[39m\"\u001b[39m\u001b[39m\\r\u001b[39;00m\u001b[39m\"\u001b[39m):\n",
      "File \u001b[0;32m~/anaconda3/lib/python3.10/site-packages/nltk/data.py:1340\u001b[0m, in \u001b[0;36mSeekableUnicodeStreamReader._read\u001b[0;34m(self, size)\u001b[0m\n\u001b[1;32m   1338\u001b[0m     new_bytes \u001b[39m=\u001b[39m \u001b[39mself\u001b[39m\u001b[39m.\u001b[39mstream\u001b[39m.\u001b[39mread()\n\u001b[1;32m   1339\u001b[0m \u001b[39melse\u001b[39;00m:\n\u001b[0;32m-> 1340\u001b[0m     new_bytes \u001b[39m=\u001b[39m \u001b[39mself\u001b[39;49m\u001b[39m.\u001b[39;49mstream\u001b[39m.\u001b[39;49mread(size)\n\u001b[1;32m   1341\u001b[0m \u001b[39mbytes\u001b[39m \u001b[39m=\u001b[39m \u001b[39mself\u001b[39m\u001b[39m.\u001b[39mbytebuffer \u001b[39m+\u001b[39m new_bytes\n\u001b[1;32m   1343\u001b[0m \u001b[39m# Decode the bytes into unicode characters\u001b[39;00m\n",
      "\u001b[0;31mKeyboardInterrupt\u001b[0m: "
     ]
    }
   ],
   "source": [
    "# Iterate over each row in the DataFrame\n",
    "for index, row in df.iterrows():\n",
    "    url_id = row['URL_ID']\n",
    "    file_name = str(url_id) + '.txt'\n",
    "    file_path = os.path.join(text_files_folder, file_name)\n",
    "\n",
    "    try:\n",
    "        # Read the text from the file using 'latin-1' encoding\n",
    "        with open(file_path, 'r', encoding='latin-1') as file:\n",
    "            article_text = file.read()\n",
    "\n",
    "        # Calculate the Average Sentence Length, Percentage of Complex Words, and Fog Index\n",
    "        pos_score,neg_score,polarity_score,subjectivity_score,avg_sentence_length, fog_index,avg_no_of_words_per_sentence,per_of_complex_words,complex_word_count, word_count, syllables_per_word, personal_pronouns_count, avg_word_length = calculate_metrics(article_text)\n",
    "\n",
    "        # Update the columns in the DataFrame\n",
    "        df.loc[index, 'POSITIVE SCORE'] = pos_score\n",
    "        df.loc[index, 'NEGATIVE SCORE'] = neg_score\n",
    "        df.loc[index, 'POLARITY SCORE'] = polarity_score\n",
    "        df.loc[index, 'SUBJECTIVITY SCORE'] = subjectivity_score\n",
    "        df.loc[index, 'AVERAGE SENTENCE LENGTH'] = avg_sentence_length\n",
    "        df.loc[index, 'PERCENTAGE OF COMPLEX WORDS'] = per_of_complex_words\n",
    "        df.loc[index, 'FOG INDEX'] = fog_index\n",
    "        df.loc[index, 'AVG NUMBER OF WORDS PER SENTENCE'] = avg_no_of_words_per_sentence\n",
    "        df.loc[index, 'COMPLEX WORD COUNT'] = complex_word_count\n",
    "        df.loc[index, 'WORD COUNT'] = word_count\n",
    "        df.loc[index, 'SYLLABLE PER WORD'] = syllables_per_word\n",
    "        df.loc[index, 'PERSONAL PRONOUNS'] = personal_pronouns_count\n",
    "        df.loc[index, 'AVG WORD LENGTH'] = avg_word_length\n",
    "\n",
    "\n",
    "        print(f'Additional scores calculated for {file_name}')\n",
    "\n",
    "    except FileNotFoundError:\n",
    "        print(f\"File '{file_name}' does not exist.\")\n",
    "\n",
    "    except Exception as e:\n",
    "        print(f'Error processing {file_name}: {str(e)}')\n",
    "\n",
    "# Save the updated DataFrame to the Excel file\n",
    "df.to_excel(excel_file, index=False)\n",
    "\n",
    "print('Additional score calculation completed.')"
   ]
  }
 ],
 "metadata": {
  "kernelspec": {
   "display_name": "Python 3 (ipykernel)",
   "language": "python",
   "name": "python3"
  },
  "language_info": {
   "codemirror_mode": {
    "name": "ipython",
    "version": 3
   },
   "file_extension": ".py",
   "mimetype": "text/x-python",
   "name": "python",
   "nbconvert_exporter": "python",
   "pygments_lexer": "ipython3",
   "version": "3.10.9"
  }
 },
 "nbformat": 4,
 "nbformat_minor": 4
}
