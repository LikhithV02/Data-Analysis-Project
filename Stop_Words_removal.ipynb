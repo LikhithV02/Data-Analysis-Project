{
 "cells": [
  {
   "cell_type": "code",
   "execution_count": 7,
   "metadata": {},
   "outputs": [
    {
     "name": "stderr",
     "output_type": "stream",
     "text": [
      "[nltk_data] Downloading package punkt to /home/likhith/nltk_data...\n",
      "[nltk_data]   Package punkt is already up-to-date!\n",
      "[nltk_data] Downloading package stopwords to\n",
      "[nltk_data]     /home/likhith/nltk_data...\n",
      "[nltk_data]   Package stopwords is already up-to-date!\n"
     ]
    },
    {
     "data": {
      "text/plain": [
       "True"
      ]
     },
     "execution_count": 7,
     "metadata": {},
     "output_type": "execute_result"
    }
   ],
   "source": [
    "import os\n",
    "import nltk\n",
    "nltk.download('punkt')"
   ]
  },
  {
   "cell_type": "code",
   "execution_count": 8,
   "metadata": {},
   "outputs": [],
   "source": [
    "stop_words_file = 'stopwords.txt'"
   ]
  },
  {
   "cell_type": "code",
   "execution_count": 10,
   "metadata": {},
   "outputs": [],
   "source": [
    "# Load the stop words from the file\n",
    "with open(stop_words_file, 'r', encoding='utf-8') as file:\n",
    "    stop_words = file.read().splitlines()"
   ]
  },
  {
   "cell_type": "code",
   "execution_count": 12,
   "metadata": {},
   "outputs": [],
   "source": [
    "folder_path = '/home/likhith/Text_Analysis/Data/'"
   ]
  },
  {
   "cell_type": "code",
   "execution_count": 14,
   "metadata": {},
   "outputs": [
    {
     "name": "stdout",
     "output_type": "stream",
     "text": [
      "Stop words and punctuation removed from 37.txt\n",
      "Stop word removal completed.\n"
     ]
    }
   ],
   "source": [
    "# Iterate over each text file in the directory\n",
    "for file_name in os.listdir(folder_path):\n",
    "    if file_name.endswith('.txt'):\n",
    "        url_id = os.path.splitext(file_name)[0]\n",
    "        file_path = os.path.join(folder_path, file_name)\n",
    "\n",
    "        try:\n",
    "            # Read the article text from the file\n",
    "            with open(file_path, 'r', encoding='utf-8') as file:\n",
    "                article_text = file.read()\n",
    "                #print(type(article_text))\n",
    "\n",
    "            # Tokenize the article text\n",
    "            words = nltk.word_tokenize(article_text)\n",
    "            #print(type(words))\n",
    "\n",
    "            # Remove stop words\n",
    "            filtered_text = [word for word in words if word not in stop_words]\n",
    "\n",
    "            # Join the filtered words back into a single text string\n",
    "            filtered_text = ' '.join(filtered_text)\n",
    "\n",
    "            # Save the filtered article back to the file\n",
    "            with open(file_path, 'w', encoding='utf-8') as file:\n",
    "                file.write(filtered_text)\n",
    "\n",
    "            print(f'Stop words and punctuation removed from {file_name}')\n",
    "\n",
    "        except FileNotFoundError:\n",
    "            print(f\"File '{file_path}' does not exist.\")\n",
    "\n",
    "        except Exception as e:\n",
    "            print(f'Error processing {file_path}: {str(e)}')\n",
    "\n",
    "print('Stop word removal completed.')"
   ]
  }
 ],
 "metadata": {
  "kernelspec": {
   "display_name": "Python 3 (ipykernel)",
   "language": "python",
   "name": "python3"
  },
  "language_info": {
   "codemirror_mode": {
    "name": "ipython",
    "version": 3
   },
   "file_extension": ".py",
   "mimetype": "text/x-python",
   "name": "python",
   "nbconvert_exporter": "python",
   "pygments_lexer": "ipython3",
   "version": "3.10.9"
  },
  "orig_nbformat": 4
 },
 "nbformat": 4,
 "nbformat_minor": 2
}
