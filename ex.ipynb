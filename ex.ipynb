{
 "cells": [
  {
   "cell_type": "code",
   "execution_count": 27,
   "metadata": {},
   "outputs": [],
   "source": [
    "def remove_punctuation(text):\n",
    "    translator = str.maketrans('', '', string.punctuation)\n",
    "    return text.translate(translator)\n",
    "\n",
    "def get_word_count(text):\n",
    "    # Remove punctuation marks\n",
    "    text_without_punctuation = remove_punctuation(text)\n",
    "\n",
    "    # Tokenize the text into words\n",
    "    words = re.findall(r'\\b\\w+\\b', text_without_punctuation)\n",
    "\n",
    "    # Remove stopwords\n",
    "    stop_words = set(stopwords.words('english'))\n",
    "    filtered_words = [word for word in words if word.lower() not in stop_words]\n",
    "\n",
    "    # Count the number of words\n",
    "    word_count = len(filtered_words)\n",
    "\n",
    "    return word_count"
   ]
  },
  {
   "cell_type": "code",
   "execution_count": 28,
   "metadata": {},
   "outputs": [
    {
     "name": "stdout",
     "output_type": "stream",
     "text": [
      "Hi   I am Likhith  What the fck are you \n"
     ]
    }
   ],
   "source": [
    "# import SyllableTokenizer() method from nltk\n",
    "from nltk import word_tokenize, sent_tokenize\n",
    "import string, nltk, re\n",
    "from nltk.corpus import stopwords\n",
    "     \n",
    "# Create a string input\n",
    "gfg = 'Hi!, I am Likhith. What the fck are you.'\n",
    "     \n",
    "# Use tokenize method\n",
    "#geek = str(gfg.split('.'))\n",
    "#print(type(geek))\n",
    "\n",
    "words = nltk.word_tokenize(gfg)\n",
    "filtered_words = [remove_punctuation(word) for word in words if remove_punctuation(word) != \".\"]\n",
    "\n",
    "# Join the filtered words back into a single string\n",
    "filtered_words = ' '.join(filtered_words)\n",
    "     \n",
    "print(filtered_words)"
   ]
  },
  {
   "cell_type": "code",
   "execution_count": 29,
   "metadata": {},
   "outputs": [
    {
     "name": "stdout",
     "output_type": "stream",
     "text": [
      "Word count: 4\n"
     ]
    }
   ],
   "source": [
    "# Example usage\n",
    "text = \"Hello, world! This is an example sentence.\"\n",
    "count = get_word_count(text)\n",
    "print(\"Word count:\", count)"
   ]
  }
 ],
 "metadata": {
  "kernelspec": {
   "display_name": "Python 3 (ipykernel)",
   "language": "python",
   "name": "python3"
  },
  "language_info": {
   "codemirror_mode": {
    "name": "ipython",
    "version": 3
   },
   "file_extension": ".py",
   "mimetype": "text/x-python",
   "name": "python",
   "nbconvert_exporter": "python",
   "pygments_lexer": "ipython3",
   "version": "3.10.9"
  },
  "orig_nbformat": 4
 },
 "nbformat": 4,
 "nbformat_minor": 2
}
